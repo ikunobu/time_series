{
 "cells": [
  {
   "cell_type": "markdown",
   "metadata": {
    "_cell_guid": "b1076dfc-b9ad-4769-8c92-a6c4dae69d19",
    "_uuid": "8f2839f25d086af736a60e9eeb907d3b93b6e0e5"
   },
   "source": [
    "# This is a code for predicting S&P 500 stock data which is from kaggle data"
   ]
  },
  {
   "cell_type": "markdown",
   "metadata": {},
   "source": [
    "## https://www.kaggle.com/camnugent/sandp500"
   ]
  },
  {
   "cell_type": "code",
   "execution_count": 1,
   "metadata": {},
   "outputs": [
    {
     "name": "stderr",
     "output_type": "stream",
     "text": [
      "/home/user/anaconda3/envs/py36/lib/python3.6/importlib/_bootstrap.py:219: RuntimeWarning: numpy.dtype size changed, may indicate binary incompatibility. Expected 96, got 88\n",
      "  return f(*args, **kwds)\n",
      "/home/user/anaconda3/envs/py36/lib/python3.6/importlib/_bootstrap.py:219: RuntimeWarning: numpy.dtype size changed, may indicate binary incompatibility. Expected 96, got 88\n",
      "  return f(*args, **kwds)\n",
      "Using TensorFlow backend.\n"
     ]
    }
   ],
   "source": [
    "import numpy as np # linear algebra\n",
    "import pandas as pd # data processing, CSV file I/O (e.g. pd.read_csv)\n",
    "from keras.models import Sequential\n",
    "from keras.layers import LSTM, Dense\n",
    "from sklearn.preprocessing import MinMaxScaler\n",
    "import matplotlib.pyplot as plt"
   ]
  },
  {
   "cell_type": "code",
   "execution_count": 2,
   "metadata": {
    "_cell_guid": "79c7e3d0-c299-4dcb-8224-4455121ee9b0",
    "_uuid": "d629ff2d2480ee46fbb7e2d37f6b5fab8052498a"
   },
   "outputs": [],
   "source": [
    "data = pd.read_csv(\"data/all_stocks_5yr.csv\")"
   ]
  },
  {
   "cell_type": "code",
   "execution_count": 3,
   "metadata": {
    "_uuid": "4496f2c6e6f95e144fc8538f692c2cba1f219a39",
    "scrolled": true
   },
   "outputs": [
    {
     "name": "stdout",
     "output_type": "stream",
     "text": [
      "619040\n",
      "1259\n"
     ]
    }
   ],
   "source": [
    "print(len(data))\n",
    "print(len(data[data[\"Name\"] == \"MMM\"]))"
   ]
  },
  {
   "cell_type": "code",
   "execution_count": 4,
   "metadata": {
    "_uuid": "44fa0c22baacf4ce4eaa82299eacc30377a66aa8"
   },
   "outputs": [],
   "source": [
    "# スリーエムという銘柄に注目\n",
    "cl = data[data[\"Name\"] == \"MMM\"].close.values"
   ]
  },
  {
   "cell_type": "code",
   "execution_count": 5,
   "metadata": {
    "_uuid": "eb00be20eb441a30f496947ce69768485961efee"
   },
   "outputs": [
    {
     "data": {
      "text/plain": [
       "[<matplotlib.lines.Line2D at 0x7f0edc3c5710>]"
      ]
     },
     "execution_count": 5,
     "metadata": {},
     "output_type": "execute_result"
    },
    {
     "data": {
      "image/png": "[encoded data removed]",
      "text/plain": [
       "<Figure size 432x288 with 1 Axes>"
      ]
     },
     "metadata": {},
     "output_type": "display_data"
    }
   ],
   "source": [
    "plt.plot(cl)"
   ]
  },
  {
   "cell_type": "code",
   "execution_count": 6,
   "metadata": {
    "_uuid": "c264bbb445c39a27cffa124a0d01be581ea1e36a"
   },
   "outputs": [],
   "source": [
    "scl = MinMaxScaler()\n",
    "cl = cl.reshape(cl.shape[0],1) # １次元から２次元に変換（行ベクトルから列ベクトルへ）\n",
    "cl = scl.fit_transform(cl) # 0〜1に正規化"
   ]
  },
  {
   "cell_type": "code",
   "execution_count": 7,
   "metadata": {
    "_uuid": "ca87092b79f85660cb0c2e196567960f20c70f02"
   },
   "outputs": [],
   "source": [
    "# X=[data[t-look_back],...,data[t-1]], Y=data[t]となるデータセットに変換する関数\n",
    "def processData(data, lb=1):\n",
    "    X, Y = [], []\n",
    "    for i in range(len(data)-lb-1):\n",
    "        X.append(data[i:(i+lb), 0])\n",
    "        Y.append(data[(i+lb),0])\n",
    "    return np.array(X),np.array(Y)"
   ]
  },
  {
   "cell_type": "code",
   "execution_count": 8,
   "metadata": {},
   "outputs": [
    {
     "name": "stdout",
     "output_type": "stream",
     "text": [
      "1000\n",
      "251\n",
      "1000\n",
      "251\n"
     ]
    }
   ],
   "source": [
    "LOOK_BACK = 7 # 何日前まで見るか\n",
    "\n",
    "X,y = processData(cl,LOOK_BACK)\n",
    "X_train,X_test = X[:int(X.shape[0]*0.80)],X[int(X.shape[0]*0.80):]\n",
    "y_train,y_test = y[:int(y.shape[0]*0.80)],y[int(y.shape[0]*0.80):]\n",
    "\n",
    "#Reshape data for (Sample, Timestep, Features)\n",
    "X_train = X_train.reshape((X_train.shape[0],X_train.shape[1],1))\n",
    "X_test = X_test.reshape((X_test.shape[0],X_test.shape[1],1))\n",
    "\n",
    "print(X_train.shape[0])\n",
    "print(X_test.shape[0])\n",
    "print(y_train.shape[0])\n",
    "print(y_test.shape[0])"
   ]
  },
  {
   "cell_type": "code",
   "execution_count": 16,
   "metadata": {
    "_uuid": "4ce40a4391281bcdc2ec12a5288177282259a7bb"
   },
   "outputs": [],
   "source": [
    "# モデルの構築\n",
    "model = Sequential()\n",
    "model.add(LSTM(256, input_shape=(LOOK_BACK,1)))\n",
    "model.add(Dense(1))\n",
    "model.compile(optimizer=\"sgd\",loss=\"mse\")"
   ]
  },
  {
   "cell_type": "code",
   "execution_count": 17,
   "metadata": {},
   "outputs": [
    {
     "data": {
      "image/svg+xml": [
       "<svg height=\"191pt\" viewBox=\"0.00 0.00 126.00 191.00\" width=\"126pt\" xmlns=\"http://www.w3.org/2000/svg\" xmlns:xlink=\"http://www.w3.org/1999/xlink\">\n",
       "<g class=\"graph\" id=\"graph0\" transform=\"scale(1 1) rotate(0) translate(4 187)\">\n",
       "<title>G</title>\n",
       "<polygon fill=\"white\" points=\"-4,4 -4,-187 122,-187 122,4 -4,4\" stroke=\"none\"/>\n",
       "<!-- 139701800604224 -->\n",
       "<g class=\"node\" id=\"node1\"><title>139701800604224</title>\n",
       "<polygon fill=\"none\" points=\"10,-73.5 10,-109.5 108,-109.5 108,-73.5 10,-73.5\" stroke=\"black\"/>\n",
       "<text font-family=\"Times,serif\" font-size=\"14.00\" text-anchor=\"middle\" x=\"59\" y=\"-87.8\">lstm_2: LSTM</text>\n",
       "</g>\n",
       "<!-- 139701801213904 -->\n",
       "<g class=\"node\" id=\"node2\"><title>139701801213904</title>\n",
       "<polygon fill=\"none\" points=\"8,-0.5 8,-36.5 110,-36.5 110,-0.5 8,-0.5\" stroke=\"black\"/>\n",
       "<text font-family=\"Times,serif\" font-size=\"14.00\" text-anchor=\"middle\" x=\"59\" y=\"-14.8\">dense_2: Dense</text>\n",
       "</g>\n",
       "<!-- 139701800604224&#45;&gt;139701801213904 -->\n",
       "<g class=\"edge\" id=\"edge2\"><title>139701800604224-&gt;139701801213904</title>\n",
       "<path d=\"M59,-73.3129C59,-65.2895 59,-55.5475 59,-46.5691\" fill=\"none\" stroke=\"black\"/>\n",
       "<polygon fill=\"black\" points=\"62.5001,-46.5288 59,-36.5288 55.5001,-46.5289 62.5001,-46.5288\" stroke=\"black\"/>\n",
       "</g>\n",
       "<!-- 139701769267912 -->\n",
       "<g class=\"node\" id=\"node3\"><title>139701769267912</title>\n",
       "<polygon fill=\"none\" points=\"0,-146.5 0,-182.5 118,-182.5 118,-146.5 0,-146.5\" stroke=\"black\"/>\n",
       "<text font-family=\"Times,serif\" font-size=\"14.00\" text-anchor=\"middle\" x=\"59\" y=\"-160.8\">139701769267912</text>\n",
       "</g>\n",
       "<!-- 139701769267912&#45;&gt;139701800604224 -->\n",
       "<g class=\"edge\" id=\"edge1\"><title>139701769267912-&gt;139701800604224</title>\n",
       "<path d=\"M59,-146.313C59,-138.289 59,-128.547 59,-119.569\" fill=\"none\" stroke=\"black\"/>\n",
       "<polygon fill=\"black\" points=\"62.5001,-119.529 59,-109.529 55.5001,-119.529 62.5001,-119.529\" stroke=\"black\"/>\n",
       "</g>\n",
       "</g>\n",
       "</svg>"
      ],
      "text/plain": [
       "<IPython.core.display.SVG object>"
      ]
     },
     "execution_count": 17,
     "metadata": {},
     "output_type": "execute_result"
    }
   ],
   "source": [
    "# モデルの内容\n",
    "from IPython.display import SVG\n",
    "from keras.utils.vis_utils import model_to_dot\n",
    "\n",
    "SVG(model_to_dot(model).create(prog='dot', format='svg'))"
   ]
  },
  {
   "cell_type": "code",
   "execution_count": 18,
   "metadata": {
    "scrolled": true
   },
   "outputs": [
    {
     "name": "stdout",
     "output_type": "stream",
     "text": [
      "Train on 1000 samples, validate on 251 samples\n",
      "Epoch 1/200\n",
      "1000/1000 [==============================] - 2s 2ms/step - loss: 0.0547 - val_loss: 0.2518\n",
      "Epoch 2/200\n",
      "1000/1000 [==============================] - 1s 837us/step - loss: 0.0204 - val_loss: 0.1901\n",
      "Epoch 3/200\n",
      "1000/1000 [==============================] - 1s 794us/step - loss: 0.0183 - val_loss: 0.1744\n",
      "Epoch 4/200\n",
      "1000/1000 [==============================] - 1s 783us/step - loss: 0.0175 - val_loss: 0.1656\n",
      "Epoch 5/200\n",
      "1000/1000 [==============================] - 1s 790us/step - loss: 0.0168 - val_loss: 0.1557\n",
      "Epoch 6/200\n",
      "1000/1000 [==============================] - 1s 809us/step - loss: 0.0162 - val_loss: 0.1499\n",
      "Epoch 7/200\n",
      "1000/1000 [==============================] - 1s 802us/step - loss: 0.0155 - val_loss: 0.1451\n",
      "Epoch 8/200\n",
      "1000/1000 [==============================] - 1s 805us/step - loss: 0.0149 - val_loss: 0.1413\n",
      "Epoch 9/200\n",
      "1000/1000 [==============================] - 1s 834us/step - loss: 0.0143 - val_loss: 0.1354\n",
      "Epoch 10/200\n",
      "1000/1000 [==============================] - 1s 893us/step - loss: 0.0137 - val_loss: 0.1267\n",
      "Epoch 11/200\n",
      "1000/1000 [==============================] - 1s 895us/step - loss: 0.0132 - val_loss: 0.1210\n",
      "Epoch 12/200\n",
      "1000/1000 [==============================] - 1s 854us/step - loss: 0.0126 - val_loss: 0.1175\n",
      "Epoch 13/200\n",
      "1000/1000 [==============================] - 1s 903us/step - loss: 0.0121 - val_loss: 0.1141\n",
      "Epoch 14/200\n",
      "1000/1000 [==============================] - 1s 888us/step - loss: 0.0116 - val_loss: 0.1093\n",
      "Epoch 15/200\n",
      "1000/1000 [==============================] - 1s 912us/step - loss: 0.0111 - val_loss: 0.1036\n",
      "Epoch 16/200\n",
      "1000/1000 [==============================] - 1s 883us/step - loss: 0.0107 - val_loss: 0.0986\n",
      "Epoch 17/200\n",
      "1000/1000 [==============================] - 1s 881us/step - loss: 0.0102 - val_loss: 0.0975\n",
      "Epoch 18/200\n",
      "1000/1000 [==============================] - 1s 869us/step - loss: 0.0098 - val_loss: 0.0911\n",
      "Epoch 19/200\n",
      "1000/1000 [==============================] - 1s 914us/step - loss: 0.0094 - val_loss: 0.0879\n",
      "Epoch 20/200\n",
      "1000/1000 [==============================] - 1s 912us/step - loss: 0.0090 - val_loss: 0.0847\n",
      "Epoch 21/200\n",
      "1000/1000 [==============================] - 1s 903us/step - loss: 0.0086 - val_loss: 0.0815\n",
      "Epoch 22/200\n",
      "1000/1000 [==============================] - 1s 876us/step - loss: 0.0082 - val_loss: 0.0778\n",
      "Epoch 23/200\n",
      "1000/1000 [==============================] - 1s 879us/step - loss: 0.0079 - val_loss: 0.0739\n",
      "Epoch 24/200\n",
      "1000/1000 [==============================] - 1s 886us/step - loss: 0.0075 - val_loss: 0.0713\n",
      "Epoch 25/200\n",
      "1000/1000 [==============================] - 1s 882us/step - loss: 0.0072 - val_loss: 0.0685\n",
      "Epoch 26/200\n",
      "1000/1000 [==============================] - 1s 909us/step - loss: 0.0069 - val_loss: 0.0656\n",
      "Epoch 27/200\n",
      "1000/1000 [==============================] - 1s 917us/step - loss: 0.0066 - val_loss: 0.0612\n",
      "Epoch 28/200\n",
      "1000/1000 [==============================] - 1s 919us/step - loss: 0.0063 - val_loss: 0.0601\n",
      "Epoch 29/200\n",
      "1000/1000 [==============================] - 1s 922us/step - loss: 0.0060 - val_loss: 0.0578\n",
      "Epoch 30/200\n",
      "1000/1000 [==============================] - 1s 924us/step - loss: 0.0057 - val_loss: 0.0542\n",
      "Epoch 31/200\n",
      "1000/1000 [==============================] - 1s 908us/step - loss: 0.0055 - val_loss: 0.0530\n",
      "Epoch 32/200\n",
      "1000/1000 [==============================] - 1s 900us/step - loss: 0.0052 - val_loss: 0.0492\n",
      "Epoch 33/200\n",
      "1000/1000 [==============================] - 1s 911us/step - loss: 0.0050 - val_loss: 0.0473\n",
      "Epoch 34/200\n",
      "1000/1000 [==============================] - 1s 891us/step - loss: 0.0047 - val_loss: 0.0456\n",
      "Epoch 35/200\n",
      "1000/1000 [==============================] - 1s 914us/step - loss: 0.0045 - val_loss: 0.0423\n",
      "Epoch 36/200\n",
      "1000/1000 [==============================] - 1s 910us/step - loss: 0.0043 - val_loss: 0.0397\n",
      "Epoch 37/200\n",
      "1000/1000 [==============================] - 1s 916us/step - loss: 0.0041 - val_loss: 0.0379\n",
      "Epoch 38/200\n",
      "1000/1000 [==============================] - 1s 924us/step - loss: 0.0039 - val_loss: 0.0362\n",
      "Epoch 39/200\n",
      "1000/1000 [==============================] - 1s 916us/step - loss: 0.0037 - val_loss: 0.0353\n",
      "Epoch 40/200\n",
      "1000/1000 [==============================] - 1s 990us/step - loss: 0.0035 - val_loss: 0.0333\n",
      "Epoch 41/200\n",
      "1000/1000 [==============================] - 1s 957us/step - loss: 0.0034 - val_loss: 0.0320\n",
      "Epoch 42/200\n",
      "1000/1000 [==============================] - 1s 897us/step - loss: 0.0032 - val_loss: 0.0302\n",
      "Epoch 43/200\n",
      "1000/1000 [==============================] - 1s 901us/step - loss: 0.0030 - val_loss: 0.0279\n",
      "Epoch 44/200\n",
      "1000/1000 [==============================] - 1s 910us/step - loss: 0.0029 - val_loss: 0.0270\n",
      "Epoch 45/200\n",
      "1000/1000 [==============================] - 1s 934us/step - loss: 0.0027 - val_loss: 0.0259\n",
      "Epoch 46/200\n",
      "1000/1000 [==============================] - 1s 916us/step - loss: 0.0026 - val_loss: 0.0249\n",
      "Epoch 47/200\n",
      "1000/1000 [==============================] - 1s 933us/step - loss: 0.0025 - val_loss: 0.0236\n",
      "Epoch 48/200\n",
      "1000/1000 [==============================] - 1s 920us/step - loss: 0.0024 - val_loss: 0.0225\n",
      "Epoch 49/200\n",
      "1000/1000 [==============================] - 1s 944us/step - loss: 0.0022 - val_loss: 0.0209\n",
      "Epoch 50/200\n",
      "1000/1000 [==============================] - 1s 961us/step - loss: 0.0021 - val_loss: 0.0201\n",
      "Epoch 51/200\n",
      "1000/1000 [==============================] - 1s 914us/step - loss: 0.0020 - val_loss: 0.0189\n",
      "Epoch 52/200\n",
      "1000/1000 [==============================] - 1s 920us/step - loss: 0.0019 - val_loss: 0.0182\n",
      "Epoch 53/200\n",
      "1000/1000 [==============================] - 1s 934us/step - loss: 0.0018 - val_loss: 0.0169\n",
      "Epoch 54/200\n",
      "1000/1000 [==============================] - 1s 906us/step - loss: 0.0017 - val_loss: 0.0162\n",
      "Epoch 55/200\n",
      "1000/1000 [==============================] - 1s 921us/step - loss: 0.0016 - val_loss: 0.0153\n",
      "Epoch 56/200\n",
      "1000/1000 [==============================] - 1s 938us/step - loss: 0.0015 - val_loss: 0.0145\n",
      "Epoch 57/200\n",
      "1000/1000 [==============================] - 1s 966us/step - loss: 0.0015 - val_loss: 0.0136\n",
      "Epoch 58/200\n",
      "1000/1000 [==============================] - 1s 907us/step - loss: 0.0014 - val_loss: 0.0128\n",
      "Epoch 59/200\n",
      "1000/1000 [==============================] - 1s 940us/step - loss: 0.0013 - val_loss: 0.0121\n",
      "Epoch 60/200\n",
      "1000/1000 [==============================] - 1s 927us/step - loss: 0.0013 - val_loss: 0.0116\n",
      "Epoch 61/200\n",
      "1000/1000 [==============================] - 1s 952us/step - loss: 0.0012 - val_loss: 0.0112\n",
      "Epoch 62/200\n",
      "1000/1000 [==============================] - 1s 974us/step - loss: 0.0011 - val_loss: 0.0106\n",
      "Epoch 63/200\n",
      "1000/1000 [==============================] - 1s 1ms/step - loss: 0.0011 - val_loss: 0.0099\n",
      "Epoch 64/200\n",
      "1000/1000 [==============================] - 1s 943us/step - loss: 0.0010 - val_loss: 0.0097\n",
      "Epoch 65/200\n",
      "1000/1000 [==============================] - 1s 930us/step - loss: 9.6318e-04 - val_loss: 0.0089\n",
      "Epoch 66/200\n",
      "1000/1000 [==============================] - 1s 943us/step - loss: 9.1462e-04 - val_loss: 0.0086\n",
      "Epoch 67/200\n",
      "1000/1000 [==============================] - 1s 934us/step - loss: 8.6923e-04 - val_loss: 0.0079\n",
      "Epoch 68/200\n",
      "1000/1000 [==============================] - 1s 957us/step - loss: 8.2503e-04 - val_loss: 0.0075\n",
      "Epoch 69/200\n",
      "1000/1000 [==============================] - 1s 952us/step - loss: 7.8501e-04 - val_loss: 0.0070\n",
      "Epoch 70/200\n",
      "1000/1000 [==============================] - 1s 938us/step - loss: 7.4724e-04 - val_loss: 0.0068\n",
      "Epoch 71/200\n",
      "1000/1000 [==============================] - 1s 946us/step - loss: 7.1011e-04 - val_loss: 0.0067\n",
      "Epoch 72/200\n",
      "1000/1000 [==============================] - 1s 903us/step - loss: 6.7647e-04 - val_loss: 0.0062\n",
      "Epoch 73/200\n",
      "1000/1000 [==============================] - 1s 943us/step - loss: 6.4441e-04 - val_loss: 0.0057\n",
      "Epoch 74/200\n",
      "1000/1000 [==============================] - 1s 907us/step - loss: 6.1429e-04 - val_loss: 0.0055\n",
      "Epoch 75/200\n",
      "1000/1000 [==============================] - 1s 956us/step - loss: 5.8629e-04 - val_loss: 0.0054\n",
      "Epoch 76/200\n",
      "1000/1000 [==============================] - 1s 946us/step - loss: 5.5868e-04 - val_loss: 0.0049\n",
      "Epoch 77/200\n"
     ]
    },
    {
     "name": "stdout",
     "output_type": "stream",
     "text": [
      "1000/1000 [==============================] - 1s 782us/step - loss: 5.3420e-04 - val_loss: 0.0047\n",
      "Epoch 78/200\n",
      "1000/1000 [==============================] - 1s 746us/step - loss: 5.1085e-04 - val_loss: 0.0044\n",
      "Epoch 79/200\n",
      "1000/1000 [==============================] - 1s 769us/step - loss: 4.8899e-04 - val_loss: 0.0042\n",
      "Epoch 80/200\n",
      "1000/1000 [==============================] - 1s 750us/step - loss: 4.6827e-04 - val_loss: 0.0040\n",
      "Epoch 81/200\n",
      "1000/1000 [==============================] - 1s 768us/step - loss: 4.4891e-04 - val_loss: 0.0038\n",
      "Epoch 82/200\n",
      "1000/1000 [==============================] - 1s 766us/step - loss: 4.3044e-04 - val_loss: 0.0037\n",
      "Epoch 83/200\n",
      "1000/1000 [==============================] - 1s 759us/step - loss: 4.1339e-04 - val_loss: 0.0034\n",
      "Epoch 84/200\n",
      "1000/1000 [==============================] - 1s 758us/step - loss: 3.9779e-04 - val_loss: 0.0033\n",
      "Epoch 85/200\n",
      "1000/1000 [==============================] - 1s 762us/step - loss: 3.8287e-04 - val_loss: 0.0031\n",
      "Epoch 86/200\n",
      "1000/1000 [==============================] - 1s 774us/step - loss: 3.6908e-04 - val_loss: 0.0029\n",
      "Epoch 87/200\n",
      "1000/1000 [==============================] - 1s 763us/step - loss: 3.5577e-04 - val_loss: 0.0028\n",
      "Epoch 88/200\n",
      "1000/1000 [==============================] - 1s 769us/step - loss: 3.4335e-04 - val_loss: 0.0027\n",
      "Epoch 89/200\n",
      "1000/1000 [==============================] - 1s 777us/step - loss: 3.3203e-04 - val_loss: 0.0025\n",
      "Epoch 90/200\n",
      "1000/1000 [==============================] - 1s 783us/step - loss: 3.2164e-04 - val_loss: 0.0025\n",
      "Epoch 91/200\n",
      "1000/1000 [==============================] - 1s 792us/step - loss: 3.1157e-04 - val_loss: 0.0024\n",
      "Epoch 92/200\n",
      "1000/1000 [==============================] - 1s 787us/step - loss: 3.0240e-04 - val_loss: 0.0023\n",
      "Epoch 93/200\n",
      "1000/1000 [==============================] - 1s 784us/step - loss: 2.9374e-04 - val_loss: 0.0021\n",
      "Epoch 94/200\n",
      "1000/1000 [==============================] - 1s 796us/step - loss: 2.8525e-04 - val_loss: 0.0021\n",
      "Epoch 95/200\n",
      "1000/1000 [==============================] - 1s 787us/step - loss: 2.7755e-04 - val_loss: 0.0020\n",
      "Epoch 96/200\n",
      "1000/1000 [==============================] - 1s 824us/step - loss: 2.7019e-04 - val_loss: 0.0019\n",
      "Epoch 97/200\n",
      "1000/1000 [==============================] - 1s 833us/step - loss: 2.6319e-04 - val_loss: 0.0018\n",
      "Epoch 98/200\n",
      "1000/1000 [==============================] - 1s 852us/step - loss: 2.5680e-04 - val_loss: 0.0018\n",
      "Epoch 99/200\n",
      "1000/1000 [==============================] - 1s 919us/step - loss: 2.5095e-04 - val_loss: 0.0017\n",
      "Epoch 100/200\n",
      "1000/1000 [==============================] - 1s 792us/step - loss: 2.4524e-04 - val_loss: 0.0015\n",
      "Epoch 101/200\n",
      "1000/1000 [==============================] - 1s 771us/step - loss: 2.4054e-04 - val_loss: 0.0015\n",
      "Epoch 102/200\n",
      "1000/1000 [==============================] - 1s 780us/step - loss: 2.3539e-04 - val_loss: 0.0015\n",
      "Epoch 103/200\n",
      "1000/1000 [==============================] - 1s 787us/step - loss: 2.3103e-04 - val_loss: 0.0015\n",
      "Epoch 104/200\n",
      "1000/1000 [==============================] - 1s 803us/step - loss: 2.2723e-04 - val_loss: 0.0014\n",
      "Epoch 105/200\n",
      "1000/1000 [==============================] - 1s 786us/step - loss: 2.2306e-04 - val_loss: 0.0013\n",
      "Epoch 106/200\n",
      "1000/1000 [==============================] - 1s 796us/step - loss: 2.1939e-04 - val_loss: 0.0013\n",
      "Epoch 107/200\n",
      "1000/1000 [==============================] - 1s 772us/step - loss: 2.1601e-04 - val_loss: 0.0012\n",
      "Epoch 108/200\n",
      "1000/1000 [==============================] - 1s 782us/step - loss: 2.1306e-04 - val_loss: 0.0012\n",
      "Epoch 109/200\n",
      "1000/1000 [==============================] - 1s 819us/step - loss: 2.1017e-04 - val_loss: 0.0012\n",
      "Epoch 110/200\n",
      "1000/1000 [==============================] - 1s 794us/step - loss: 2.0740e-04 - val_loss: 0.0011\n",
      "Epoch 111/200\n",
      "1000/1000 [==============================] - 1s 781us/step - loss: 2.0473e-04 - val_loss: 0.0011\n",
      "Epoch 112/200\n",
      "1000/1000 [==============================] - 1s 808us/step - loss: 2.0240e-04 - val_loss: 0.0010\n",
      "Epoch 113/200\n",
      "1000/1000 [==============================] - 1s 787us/step - loss: 2.0011e-04 - val_loss: 0.0010\n",
      "Epoch 114/200\n",
      "1000/1000 [==============================] - 1s 822us/step - loss: 1.9810e-04 - val_loss: 0.0010\n",
      "Epoch 115/200\n",
      "1000/1000 [==============================] - 1s 803us/step - loss: 1.9620e-04 - val_loss: 9.7326e-04\n",
      "Epoch 116/200\n",
      "1000/1000 [==============================] - 1s 808us/step - loss: 1.9451e-04 - val_loss: 9.4979e-04\n",
      "Epoch 117/200\n",
      "1000/1000 [==============================] - 1s 797us/step - loss: 1.9273e-04 - val_loss: 8.9469e-04\n",
      "Epoch 118/200\n",
      "1000/1000 [==============================] - 1s 832us/step - loss: 1.9148e-04 - val_loss: 9.1344e-04\n",
      "Epoch 119/200\n",
      "1000/1000 [==============================] - 1s 794us/step - loss: 1.8999e-04 - val_loss: 8.8048e-04\n",
      "Epoch 120/200\n",
      "1000/1000 [==============================] - 1s 836us/step - loss: 1.8871e-04 - val_loss: 8.7306e-04\n",
      "Epoch 121/200\n",
      "1000/1000 [==============================] - 1s 815us/step - loss: 1.8751e-04 - val_loss: 8.6881e-04\n",
      "Epoch 122/200\n",
      "1000/1000 [==============================] - 1s 835us/step - loss: 1.8625e-04 - val_loss: 8.2713e-04\n",
      "Epoch 123/200\n",
      "1000/1000 [==============================] - 1s 793us/step - loss: 1.8521e-04 - val_loss: 8.2407e-04\n",
      "Epoch 124/200\n",
      "1000/1000 [==============================] - 1s 811us/step - loss: 1.8430e-04 - val_loss: 8.1413e-04\n",
      "Epoch 125/200\n",
      "1000/1000 [==============================] - 1s 844us/step - loss: 1.8319e-04 - val_loss: 7.6387e-04\n",
      "Epoch 126/200\n",
      "1000/1000 [==============================] - 1s 818us/step - loss: 1.8252e-04 - val_loss: 7.4727e-04\n",
      "Epoch 127/200\n",
      "1000/1000 [==============================] - 1s 850us/step - loss: 1.8162e-04 - val_loss: 7.4951e-04\n",
      "Epoch 128/200\n",
      "1000/1000 [==============================] - 1s 856us/step - loss: 1.8104e-04 - val_loss: 7.3707e-04\n",
      "Epoch 129/200\n",
      "1000/1000 [==============================] - 1s 830us/step - loss: 1.8024e-04 - val_loss: 7.4056e-04\n",
      "Epoch 130/200\n",
      "1000/1000 [==============================] - 1s 793us/step - loss: 1.7943e-04 - val_loss: 7.4015e-04\n",
      "Epoch 131/200\n",
      "1000/1000 [==============================] - 1s 793us/step - loss: 1.7897e-04 - val_loss: 6.8631e-04\n",
      "Epoch 132/200\n",
      "1000/1000 [==============================] - 1s 817us/step - loss: 1.7845e-04 - val_loss: 6.8842e-04\n",
      "Epoch 133/200\n",
      "1000/1000 [==============================] - 1s 820us/step - loss: 1.7776e-04 - val_loss: 6.8955e-04\n",
      "Epoch 134/200\n",
      "1000/1000 [==============================] - 1s 844us/step - loss: 1.7744e-04 - val_loss: 6.8239e-04\n",
      "Epoch 135/200\n",
      "1000/1000 [==============================] - 1s 1ms/step - loss: 1.7687e-04 - val_loss: 6.6075e-04\n",
      "Epoch 136/200\n",
      "1000/1000 [==============================] - 1s 1ms/step - loss: 1.7635e-04 - val_loss: 6.8097e-04\n",
      "Epoch 137/200\n",
      "1000/1000 [==============================] - 1s 930us/step - loss: 1.7626e-04 - val_loss: 6.5396e-04\n",
      "Epoch 138/200\n",
      "1000/1000 [==============================] - 1s 1ms/step - loss: 1.7565e-04 - val_loss: 6.6057e-04\n",
      "Epoch 139/200\n",
      "1000/1000 [==============================] - 1s 915us/step - loss: 1.7552e-04 - val_loss: 6.2139e-04\n",
      "Epoch 140/200\n",
      "1000/1000 [==============================] - 1s 903us/step - loss: 1.7525e-04 - val_loss: 6.2533e-04\n",
      "Epoch 141/200\n",
      "1000/1000 [==============================] - 1s 1ms/step - loss: 1.7484e-04 - val_loss: 6.3155e-04\n",
      "Epoch 142/200\n",
      "1000/1000 [==============================] - 1s 788us/step - loss: 1.7458e-04 - val_loss: 6.1936e-04\n",
      "Epoch 143/200\n",
      "1000/1000 [==============================] - 1s 800us/step - loss: 1.7436e-04 - val_loss: 6.0686e-04\n",
      "Epoch 144/200\n",
      "1000/1000 [==============================] - 1s 1ms/step - loss: 1.7397e-04 - val_loss: 6.0793e-04\n",
      "Epoch 145/200\n",
      "1000/1000 [==============================] - 1s 1ms/step - loss: 1.7379e-04 - val_loss: 6.1395e-04\n",
      "Epoch 146/200\n",
      "1000/1000 [==============================] - 1s 990us/step - loss: 1.7385e-04 - val_loss: 6.0004e-04\n",
      "Epoch 147/200\n",
      "1000/1000 [==============================] - 1s 852us/step - loss: 1.7355e-04 - val_loss: 5.9280e-04\n",
      "Epoch 148/200\n",
      "1000/1000 [==============================] - 1s 816us/step - loss: 1.7345e-04 - val_loss: 6.1511e-04\n",
      "Epoch 149/200\n",
      "1000/1000 [==============================] - 1s 909us/step - loss: 1.7311e-04 - val_loss: 5.6903e-04\n"
     ]
    },
    {
     "name": "stdout",
     "output_type": "stream",
     "text": [
      "Epoch 150/200\n",
      "1000/1000 [==============================] - 1s 1ms/step - loss: 1.7325e-04 - val_loss: 5.8292e-04\n",
      "Epoch 151/200\n",
      "1000/1000 [==============================] - 1s 1ms/step - loss: 1.7298e-04 - val_loss: 5.7906e-04\n",
      "Epoch 152/200\n",
      "1000/1000 [==============================] - 1s 1ms/step - loss: 1.7271e-04 - val_loss: 5.6544e-04\n",
      "Epoch 153/200\n",
      "1000/1000 [==============================] - 1s 1ms/step - loss: 1.7272e-04 - val_loss: 5.6881e-04\n",
      "Epoch 154/200\n",
      "1000/1000 [==============================] - 1s 885us/step - loss: 1.7216e-04 - val_loss: 5.8701e-04\n",
      "Epoch 155/200\n",
      "1000/1000 [==============================] - 1s 781us/step - loss: 1.7247e-04 - val_loss: 5.6247e-04\n",
      "Epoch 156/200\n",
      "1000/1000 [==============================] - 1s 778us/step - loss: 1.7228e-04 - val_loss: 5.6603e-04\n",
      "Epoch 157/200\n",
      "1000/1000 [==============================] - 1s 778us/step - loss: 1.7220e-04 - val_loss: 5.6769e-04\n",
      "Epoch 158/200\n",
      "1000/1000 [==============================] - 1s 856us/step - loss: 1.7209e-04 - val_loss: 5.7821e-04\n",
      "Epoch 159/200\n",
      "1000/1000 [==============================] - 1s 1ms/step - loss: 1.7225e-04 - val_loss: 5.5992e-04\n",
      "Epoch 160/200\n",
      "1000/1000 [==============================] - 1s 855us/step - loss: 1.7189e-04 - val_loss: 5.6376e-04\n",
      "Epoch 161/200\n",
      "1000/1000 [==============================] - 1s 1ms/step - loss: 1.7189e-04 - val_loss: 5.4302e-04\n",
      "Epoch 162/200\n",
      "1000/1000 [==============================] - 1s 1ms/step - loss: 1.7189e-04 - val_loss: 5.4295e-04\n",
      "Epoch 163/200\n",
      "1000/1000 [==============================] - 2s 2ms/step - loss: 1.7180e-04 - val_loss: 5.4026e-04\n",
      "Epoch 164/200\n",
      "1000/1000 [==============================] - 1s 1ms/step - loss: 1.7172e-04 - val_loss: 5.3457e-04\n",
      "Epoch 165/200\n",
      "1000/1000 [==============================] - 1s 1ms/step - loss: 1.7156e-04 - val_loss: 5.4339e-04\n",
      "Epoch 166/200\n",
      "1000/1000 [==============================] - 1s 1ms/step - loss: 1.7156e-04 - val_loss: 5.5614e-04\n",
      "Epoch 167/200\n",
      "1000/1000 [==============================] - 1s 1ms/step - loss: 1.7183e-04 - val_loss: 5.3835e-04\n",
      "Epoch 168/200\n",
      "1000/1000 [==============================] - 1s 1ms/step - loss: 1.7158e-04 - val_loss: 5.4006e-04\n",
      "Epoch 169/200\n",
      "1000/1000 [==============================] - 1s 1ms/step - loss: 1.7128e-04 - val_loss: 5.1953e-04\n",
      "Epoch 170/200\n",
      "1000/1000 [==============================] - 1s 1ms/step - loss: 1.7154e-04 - val_loss: 5.1770e-04\n",
      "Epoch 171/200\n",
      "1000/1000 [==============================] - 1s 1ms/step - loss: 1.7146e-04 - val_loss: 5.3365e-04\n",
      "Epoch 172/200\n",
      "1000/1000 [==============================] - 1s 1ms/step - loss: 1.7139e-04 - val_loss: 5.2207e-04\n",
      "Epoch 173/200\n",
      "1000/1000 [==============================] - 1s 1ms/step - loss: 1.7137e-04 - val_loss: 5.3631e-04\n",
      "Epoch 174/200\n",
      "1000/1000 [==============================] - 2s 2ms/step - loss: 1.7137e-04 - val_loss: 5.1010e-04\n",
      "Epoch 175/200\n",
      "1000/1000 [==============================] - 1s 1ms/step - loss: 1.7150e-04 - val_loss: 5.1531e-04\n",
      "Epoch 176/200\n",
      "1000/1000 [==============================] - 1s 1ms/step - loss: 1.7122e-04 - val_loss: 5.2361e-04\n",
      "Epoch 177/200\n",
      "1000/1000 [==============================] - 1s 1ms/step - loss: 1.7120e-04 - val_loss: 5.2189e-04\n",
      "Epoch 178/200\n",
      "1000/1000 [==============================] - 1s 941us/step - loss: 1.7114e-04 - val_loss: 5.1768e-04\n",
      "Epoch 179/200\n",
      "1000/1000 [==============================] - 1s 1ms/step - loss: 1.7133e-04 - val_loss: 5.0746e-04\n",
      "Epoch 180/200\n",
      "1000/1000 [==============================] - 1s 1ms/step - loss: 1.7115e-04 - val_loss: 5.2030e-04\n",
      "Epoch 181/200\n",
      "1000/1000 [==============================] - 1s 976us/step - loss: 1.7107e-04 - val_loss: 5.2683e-04\n",
      "Epoch 182/200\n",
      "1000/1000 [==============================] - 1s 961us/step - loss: 1.7124e-04 - val_loss: 4.9978e-04\n",
      "Epoch 183/200\n",
      "1000/1000 [==============================] - 1s 1ms/step - loss: 1.7100e-04 - val_loss: 5.2138e-04\n",
      "Epoch 184/200\n",
      "1000/1000 [==============================] - 1s 1ms/step - loss: 1.7121e-04 - val_loss: 5.1483e-04\n",
      "Epoch 185/200\n",
      "1000/1000 [==============================] - 1s 1ms/step - loss: 1.7095e-04 - val_loss: 5.0776e-04\n",
      "Epoch 186/200\n",
      "1000/1000 [==============================] - 1s 1ms/step - loss: 1.7104e-04 - val_loss: 5.0810e-04\n",
      "Epoch 187/200\n",
      "1000/1000 [==============================] - 1s 996us/step - loss: 1.7119e-04 - val_loss: 5.1662e-04\n",
      "Epoch 188/200\n",
      "1000/1000 [==============================] - 1s 1ms/step - loss: 1.7110e-04 - val_loss: 5.0292e-04\n",
      "Epoch 189/200\n",
      "1000/1000 [==============================] - 1s 1ms/step - loss: 1.7102e-04 - val_loss: 5.0582e-04\n",
      "Epoch 190/200\n",
      "1000/1000 [==============================] - 1s 1ms/step - loss: 1.7101e-04 - val_loss: 5.1386e-04\n",
      "Epoch 191/200\n",
      "1000/1000 [==============================] - 1s 917us/step - loss: 1.7114e-04 - val_loss: 5.0222e-04\n",
      "Epoch 192/200\n",
      "1000/1000 [==============================] - 1s 938us/step - loss: 1.7087e-04 - val_loss: 5.0852e-04\n",
      "Epoch 193/200\n",
      "1000/1000 [==============================] - 1s 1ms/step - loss: 1.7112e-04 - val_loss: 5.0120e-04\n",
      "Epoch 194/200\n",
      "1000/1000 [==============================] - 1s 1ms/step - loss: 1.7121e-04 - val_loss: 5.0301e-04\n",
      "Epoch 195/200\n",
      "1000/1000 [==============================] - 1s 1ms/step - loss: 1.7104e-04 - val_loss: 4.9947e-04\n",
      "Epoch 196/200\n",
      "1000/1000 [==============================] - 1s 1ms/step - loss: 1.7107e-04 - val_loss: 5.0604e-04\n",
      "Epoch 197/200\n",
      "1000/1000 [==============================] - 1s 1ms/step - loss: 1.7106e-04 - val_loss: 4.9182e-04\n",
      "Epoch 198/200\n",
      "1000/1000 [==============================] - 1s 1ms/step - loss: 1.7091e-04 - val_loss: 5.0893e-04\n",
      "Epoch 199/200\n",
      "1000/1000 [==============================] - 1s 1ms/step - loss: 1.7104e-04 - val_loss: 5.0530e-04\n",
      "Epoch 200/200\n",
      "1000/1000 [==============================] - 1s 995us/step - loss: 1.7099e-04 - val_loss: 4.9049e-04\n"
     ]
    }
   ],
   "source": [
    "#Fit model with history to check for overfitting\n",
    "history = model.fit(X_train,y_train,epochs=200,validation_data=(X_test, y_test))"
   ]
  },
  {
   "cell_type": "code",
   "execution_count": 19,
   "metadata": {
    "_uuid": "f01cd687ac71ea1e0e14f01db887f48ea6810a9d"
   },
   "outputs": [
    {
     "data": {
      "text/plain": [
       "<matplotlib.legend.Legend at 0x7f0ec6124b00>"
      ]
     },
     "execution_count": 19,
     "metadata": {},
     "output_type": "execute_result"
    },
    {
     "data": {
      "image/png": "[encoded data removed]",
      "text/plain": [
       "<Figure size 432x288 with 1 Axes>"
      ]
     },
     "metadata": {},
     "output_type": "display_data"
    }
   ],
   "source": [
    "plt.plot(history.history[\"loss\"], label=\"loss\")\n",
    "plt.plot(history.history[\"val_loss\"], label=\"val_loss\")\n",
    "plt.legend(loc=\"upper right\")"
   ]
  },
  {
   "cell_type": "code",
   "execution_count": 20,
   "metadata": {
    "_uuid": "e2d4d67af04cf3caed850513e031d8a2b56db47c"
   },
   "outputs": [
    {
     "name": "stdout",
     "output_type": "stream",
     "text": [
      "Train RMSE: 2.05\n",
      "Test RMSE: 3.47\n"
     ]
    }
   ],
   "source": [
    "import math\n",
    "from sklearn.metrics import mean_squared_error\n",
    "\n",
    "trainPred = model.predict(X_train)\n",
    "testPred = model.predict(X_test)\n",
    "\n",
    "trainPred =  scl.inverse_transform(trainPred)\n",
    "trainY = scl.inverse_transform([y_train])\n",
    "testPred = scl.inverse_transform(testPred)\n",
    "testY = scl.inverse_transform([y_test])\n",
    "\n",
    "# 平均二乗誤差のルートで評価\n",
    "trainScore = math.sqrt(mean_squared_error(trainY[0], trainPred[:,0]))\n",
    "print('Train RMSE: %.2f' % (trainScore))\n",
    "testScore = math.sqrt(mean_squared_error(testY[0], testPred[:,0]))\n",
    "print('Test RMSE: %.2f' % (testScore))"
   ]
  },
  {
   "cell_type": "code",
   "execution_count": 21,
   "metadata": {
    "_uuid": "70d46ffd94b064884a97825b5f813347f87296ff"
   },
   "outputs": [
    {
     "data": {
      "text/plain": [
       "<matplotlib.legend.Legend at 0x7f0ec608fd30>"
      ]
     },
     "execution_count": 21,
     "metadata": {},
     "output_type": "execute_result"
    },
    {
     "data": {
      "image/png": "[encoded data removed]",
      "text/plain": [
       "<Figure size 432x288 with 1 Axes>"
      ]
     },
     "metadata": {},
     "output_type": "display_data"
    }
   ],
   "source": [
    "Xt = model.predict(X_test)\n",
    "plt.plot(scl.inverse_transform(y_test.reshape(-1,1)), label=\"data\")\n",
    "plt.plot(scl.inverse_transform(Xt), label=\"pred data\")\n",
    "plt.legend(loc = \"upper left\")"
   ]
  },
  {
   "cell_type": "code",
   "execution_count": 22,
   "metadata": {
    "_uuid": "fd459dc9422b6b5277c3bca3aafa81d715f25b94"
   },
   "outputs": [],
   "source": [
    "model.save_weights('./weight/lb_7_op_adam_ep_300.hdf5')"
   ]
  },
  {
   "cell_type": "code",
   "execution_count": null,
   "metadata": {
    "_uuid": "8c2649da946536b687549011a920085d10d73b9b"
   },
   "outputs": [],
   "source": []
  }
 ],
 "metadata": {
  "kernelspec": {
   "display_name": "Python 3",
   "language": "python",
   "name": "python3"
  },
  "language_info": {
   "codemirror_mode": {
    "name": "ipython",
    "version": 3
   },
   "file_extension": ".py",
   "mimetype": "text/x-python",
   "name": "python",
   "nbconvert_exporter": "python",
   "pygments_lexer": "ipython3",
   "version": "3.6.4"
  }
 },
 "nbformat": 4,
 "nbformat_minor": 1
}
